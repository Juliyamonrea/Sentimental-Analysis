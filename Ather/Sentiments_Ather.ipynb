{
 "cells": [
  {
   "cell_type": "code",
   "execution_count": 2,
   "id": "df259746",
   "metadata": {},
   "outputs": [],
   "source": [
    "import pandas as pd\n",
    "from collections import Counter\n",
    "import re\n"
   ]
  },
  {
   "cell_type": "code",
   "execution_count": 3,
   "id": "b728ec0c",
   "metadata": {},
   "outputs": [],
   "source": [
    "# read the CSV file\n",
    "df = pd.read_csv(\"ather_comments.csv\", encoding=\"ISO-8859-1\")\n",
    "\n",
    "# extract comments from the dataframe\n",
    "comments = df[\"comments\"].tolist()\n",
    "\n",
    "# concatenate all comments into a single string\n",
    "all_comments = \" \".join(str(comment) for comment in comments)\n",
    "\n",
    "# define the keywords you want to search for\n",
    "keywords = [\"affordable\",\"refund\",\"upgraded\", \"customer service\", \"service\",\"Charging\",\"cheap\",\"worst\",\"best\",\"charger\",\"good\",\"like\",\"compare\"]\n",
    "\n",
    "# create a Counter object to keep track of keyword frequencies\n",
    "keyword_counts = Counter()\n",
    "\n",
    "# loop through each keyword and find its frequency in the comments\n",
    "for keyword in keywords:\n",
    "    # use regex to find the number of times the keyword appears in the comments\n",
    "    keyword_count = len(re.findall(keyword, all_comments, re.IGNORECASE))\n",
    "    # add the keyword and its count to the Counter object\n",
    "    keyword_counts[keyword] = keyword_count\n",
    "\n",
    "# create a dataframe from the keyword counts\n",
    "data = {\"keywords\": list(keyword_counts.keys()), \"count\": list(keyword_counts.values())}\n",
    "df_counts = pd.DataFrame(data)\n",
    "\n",
    "# write the dataframe to a CSV file\n",
    "df_counts.to_csv(\"keyword_counts.csv\", index=False)"
   ]
  },
  {
   "cell_type": "markdown",
   "id": "8a5009c7",
   "metadata": {},
   "source": [
    "# Total number of keywords such as \n",
    "\"expensive\",\"affordable\",\"refund\",\"upgraded\", \"customerservice\",\"service\",\"Charging\",\"cheap\",\"worst\",\"best\",\"charger\",\"good\",\"like\",\"compare\" repeted in ather_comments.csv(File  is renamed after data cleaning)\n"
   ]
  },
  {
   "cell_type": "code",
   "execution_count": null,
   "id": "a87e222e",
   "metadata": {},
   "outputs": [],
   "source": []
  }
 ],
 "metadata": {
  "kernelspec": {
   "display_name": "Python 3 (ipykernel)",
   "language": "python",
   "name": "python3"
  },
  "language_info": {
   "codemirror_mode": {
    "name": "ipython",
    "version": 3
   },
   "file_extension": ".py",
   "mimetype": "text/x-python",
   "name": "python",
   "nbconvert_exporter": "python",
   "pygments_lexer": "ipython3",
   "version": "3.9.13"
  }
 },
 "nbformat": 4,
 "nbformat_minor": 5
}
