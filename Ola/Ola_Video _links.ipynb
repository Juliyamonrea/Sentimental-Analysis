{
 "cells": [
  {
   "cell_type": "markdown",
   "id": "d44b2b0c",
   "metadata": {},
   "source": [
    "# Ola s1 YouTube Links\n",
    "All the video links from videos named as Ola S1 dated 29/4/23-5/5/23 are exctracted and saved in video_links.txt file"
   ]
  },
  {
   "cell_type": "code",
   "execution_count": null,
   "id": "b4f4e86a",
   "metadata": {},
   "outputs": [],
   "source": [
    "import os\n",
    "import google.auth\n",
    "from googleapiclient.discovery import build\n",
    "import csv\n",
    "\n",
    "# Add Youtube V3 API Key\n",
    "api_key = ''\n",
    "creds = None\n",
    "if api_key:\n",
    "    creds = build('youtube', 'v3', developerKey=api_key)\n",
    "\n",
    "# Set up search query\n",
    "query = 'Ola S1'\n",
    "published_after = '2023-04-29T00:00:00Z'  # Last 7 days\n",
    "published_before = '2023-05-05T00:00:00Z'\n",
    "max_results = 100\n",
    "\n",
    "# Search for videos matching the query\n",
    "search_response = creds.search().list(\n",
    "    q=query,\n",
    "    type='video,short',\n",
    "    part='id',\n",
    "    maxResults=max_results,\n",
    "    publishedAfter=published_after,\n",
    "    publishedBefore=published_before\n",
    ").execute()\n",
    "\n",
    "# Get the links to each video or short\n",
    "video_links = []\n",
    "for search_result in search_response.get('items', []):\n",
    "    video_id = search_result['id']['videoId'] if 'videoId' in search_result['id'] else search_result['id']['shortId']\n",
    "    video_links.append(f'https://www.youtube.com/watch?v={video_id}')\n",
    "\n",
    "# Write the video links to a text file\n",
    "with open('video_links.txt', 'w', encoding='utf-8') as f:\n",
    "    for link in video_links:\n",
    "        f.write(link + '\\n')\n",
    "\n",
    "print(f'Successfully wrote {len(video_links)} video links to video_links.txt')"
   ]
  },
  {
   "cell_type": "code",
   "execution_count": null,
   "id": "a26ca9c9",
   "metadata": {},
   "outputs": [],
   "source": []
  }
 ],
 "metadata": {
  "kernelspec": {
   "display_name": "Python 3 (ipykernel)",
   "language": "python",
   "name": "python3"
  },
  "language_info": {
   "codemirror_mode": {
    "name": "ipython",
    "version": 3
   },
   "file_extension": ".py",
   "mimetype": "text/x-python",
   "name": "python",
   "nbconvert_exporter": "python",
   "pygments_lexer": "ipython3",
   "version": "3.9.13"
  }
 },
 "nbformat": 4,
 "nbformat_minor": 5
}
